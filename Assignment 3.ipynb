{
 "cells": [
  {
   "cell_type": "code",
   "execution_count": 1,
   "metadata": {},
   "outputs": [
    {
     "name": "stdout",
     "output_type": "stream",
     "text": [
      "Enter first number:\n",
      "2\n",
      "Enter operator (+, -, *, /, **):\n",
      "**\n",
      "Enter second number:\n",
      "3\n",
      "Result: 8\n"
     ]
    }
   ],
   "source": [
    "print('Enter first number:')\n",
    "num1 = input()\n",
    "print('Enter operator (+, -, *, /, **):')\n",
    "operator = input()\n",
    "print('Enter second number:')\n",
    "num2 = input()\n",
    "\n",
    "print('Result:', eval(num1 + operator + num2))"
   ]
  },
  {
   "cell_type": "code",
   "execution_count": 2,
   "metadata": {},
   "outputs": [
    {
     "name": "stdout",
     "output_type": "stream",
     "text": [
      "Number found in the list\n"
     ]
    }
   ],
   "source": [
    "mixed_list = ['1', 'abc', 2, 'test']\n",
    "\n",
    "found = False\n",
    "for n in mixed_list:\n",
    "    if type(n) == int:\n",
    "        found = True\n",
    "        break\n",
    "\n",
    "if found:\n",
    "    print('Number found in the list')\n",
    "else:\n",
    "    print('No number found in the list')"
   ]
  },
  {
   "cell_type": "code",
   "execution_count": 3,
   "metadata": {},
   "outputs": [
    {
     "name": "stdout",
     "output_type": "stream",
     "text": [
      "{'anykey': 'anyvalue'}\n"
     ]
    }
   ],
   "source": [
    "the_dict = {}\n",
    "\n",
    "the_dict['anykey'] = 'anyvalue'\n",
    "\n",
    "print(the_dict)"
   ]
  },
  {
   "cell_type": "code",
   "execution_count": 4,
   "metadata": {},
   "outputs": [
    {
     "name": "stdout",
     "output_type": "stream",
     "text": [
      "Sum of grades: 267\n"
     ]
    }
   ],
   "source": [
    "grades_dict = {\n",
    "    'english': 85,\n",
    "    'maths': 90,\n",
    "    'computer': 92\n",
    "}\n",
    "\n",
    "sum_grades = sum(grades_dict.values())\n",
    "\n",
    "print('Sum of grades:', sum_grades)"
   ]
  },
  {
   "cell_type": "code",
   "execution_count": 5,
   "metadata": {},
   "outputs": [
    {
     "name": "stdout",
     "output_type": "stream",
     "text": [
      "Dupicates values: [1, 2, 5]\n"
     ]
    }
   ],
   "source": [
    "val_list = [1, 3, 2, 1, 2, 5, 6, 5]\n",
    "\n",
    "tmp_list = []\n",
    "duplicate_val = []\n",
    "for n in val_list:\n",
    "    if (n in tmp_list) == False:\n",
    "        tmp_list.append(n)\n",
    "    elif (n in duplicate_val) == False:\n",
    "        duplicate_val.append(n)\n",
    "\n",
    "print('Dupicates values:', duplicate_val)"
   ]
  },
  {
   "cell_type": "code",
   "execution_count": 6,
   "metadata": {},
   "outputs": [
    {
     "name": "stdout",
     "output_type": "stream",
     "text": [
      "first name exist: True\n",
      "middle name exist: False\n",
      "last name exist: True\n"
     ]
    }
   ],
   "source": [
    "fullname_dict = {\n",
    "    'first': 'Ahmed',\n",
    "    'last': 'Raza'\n",
    "}\n",
    "\n",
    "print('first name exist:', 'first' in fullname_dict.keys())\n",
    "print('middle name exist:', 'middle' in fullname_dict.keys())\n",
    "print('last name exist:', 'last' in fullname_dict.keys())"
   ]
  }
 ],
 "metadata": {
  "kernelspec": {
   "display_name": "Python 3",
   "language": "python",
   "name": "python3"
  },
  "language_info": {
   "codemirror_mode": {
    "name": "ipython",
    "version": 3
   },
   "file_extension": ".py",
   "mimetype": "text/x-python",
   "name": "python",
   "nbconvert_exporter": "python",
   "pygments_lexer": "ipython3",
   "version": "3.7.4"
  }
 },
 "nbformat": 4,
 "nbformat_minor": 2
}
