{
 "cells": [
  {
   "cell_type": "code",
   "execution_count": 1,
   "metadata": {},
   "outputs": [
    {
     "name": "stdout",
     "output_type": "stream",
     "text": [
      "Enter marks of English subject:\n",
      "85\n",
      "Enter marks of Math subject:\n",
      "90\n",
      "Enter marks of Science subject:\n",
      "75\n",
      "Enter marks of Physics subject:\n",
      "60\n",
      "Enter marks of Chemistry subject:\n",
      "55\n",
      "Subject\t\tMarks\n",
      "-------------------------\n",
      "Englist\t\t85\n",
      "Math\t\t90\n",
      "Science\t\t75\n",
      "Physics\t\t60\n",
      "Chemistry\t55\n",
      "-------------------------\n",
      "Total:\t\t365\n"
     ]
    }
   ],
   "source": [
    "print('Enter marks of English subject:')\n",
    "marks_english = int(input())\n",
    "print('Enter marks of Math subject:')\n",
    "marks_math = int(input())\n",
    "print('Enter marks of Science subject:')\n",
    "marks_science = int(input())\n",
    "print('Enter marks of Physics subject:')\n",
    "marks_physics = int(input())\n",
    "print('Enter marks of Chemistry subject:')\n",
    "marks_chemistry = int(input())\n",
    "\n",
    "print('Subject\\t\\tMarks')\n",
    "print(\"-\" * 25)\n",
    "print('Englist\\t\\t' + str(marks_english))\n",
    "print('Math\\t\\t' + str(marks_math))\n",
    "print('Science\\t\\t' + str(marks_science))\n",
    "print('Physics\\t\\t' + str(marks_physics))\n",
    "print('Chemistry\\t' + str(marks_chemistry))\n",
    "print(\"-\" * 25)\n",
    "print('Total:\\t\\t' + str(marks_english + marks_math + marks_science + marks_physics + marks_chemistry))"
   ]
  },
  {
   "cell_type": "code",
   "execution_count": 2,
   "metadata": {},
   "outputs": [
    {
     "name": "stdout",
     "output_type": "stream",
     "text": [
      "Enter a number:\n",
      "3\n",
      "Your input number is odd\n"
     ]
    }
   ],
   "source": [
    "print('Enter a number:')\n",
    "num = int(input())\n",
    "print('Your input number is ' + ('even' if num % 2 == 0 else 'odd'))"
   ]
  },
  {
   "cell_type": "code",
   "execution_count": 3,
   "metadata": {},
   "outputs": [
    {
     "name": "stdout",
     "output_type": "stream",
     "text": [
      "3\n"
     ]
    }
   ],
   "source": [
    "fruit_list = ['Apple', 'Banana', 'Carrot']\n",
    "\n",
    "print(len(fruit_list))"
   ]
  },
  {
   "cell_type": "code",
   "execution_count": 4,
   "metadata": {},
   "outputs": [
    {
     "name": "stdout",
     "output_type": "stream",
     "text": [
      "Sum of numbers: 15\n"
     ]
    }
   ],
   "source": [
    "num_list = [2, 4, 5, 3, 1]\n",
    "\n",
    "print('Sum of numbers:', sum(num_list))"
   ]
  },
  {
   "cell_type": "code",
   "execution_count": 5,
   "metadata": {},
   "outputs": [
    {
     "name": "stdout",
     "output_type": "stream",
     "text": [
      "Maximum number is:  7\n"
     ]
    }
   ],
   "source": [
    "num_list = [5, 4, 6, 3, 7, 2]\n",
    "\n",
    "print('Maximum number is: ', max(num_list))"
   ]
  },
  {
   "cell_type": "code",
   "execution_count": 6,
   "metadata": {},
   "outputs": [
    {
     "name": "stdout",
     "output_type": "stream",
     "text": [
      "Less than 5 number:\n",
      "1\n",
      "1\n",
      "2\n",
      "3\n"
     ]
    }
   ],
   "source": [
    "num_list = [1, 1, 2, 3, 5, 8, 13, 21, 34, 55, 89]\n",
    "\n",
    "print('Less than 5 number:')\n",
    "for n in num_list:\n",
    "    if n < 5:\n",
    "        print(n)\n"
   ]
  }
 ],
 "metadata": {
  "kernelspec": {
   "display_name": "Python 3",
   "language": "python",
   "name": "python3"
  },
  "language_info": {
   "codemirror_mode": {
    "name": "ipython",
    "version": 3
   },
   "file_extension": ".py",
   "mimetype": "text/x-python",
   "name": "python",
   "nbconvert_exporter": "python",
   "pygments_lexer": "ipython3",
   "version": "3.7.4"
  }
 },
 "nbformat": 4,
 "nbformat_minor": 2
}
