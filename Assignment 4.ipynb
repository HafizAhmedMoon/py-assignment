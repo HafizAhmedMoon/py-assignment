{
 "cells": [
  {
   "cell_type": "code",
   "execution_count": 1,
   "metadata": {},
   "outputs": [
    {
     "name": "stdout",
     "output_type": "stream",
     "text": [
      "First Name: Adbul\n",
      "Last Name: Qadir\n",
      "Age: 20\n",
      "City: Karachi\n",
      "Qualification added: Intermidiate\n",
      "Qualification updated: Master in BSCS\n",
      "Qualification deleted.\n"
     ]
    }
   ],
   "source": [
    "person_info = {\n",
    "    'first_name': 'Adbul',\n",
    "    'last_name': 'Qadir',\n",
    "    'age': 20,\n",
    "    'city': 'Karachi',\n",
    "}\n",
    "\n",
    "print('First Name: ' + person_info['first_name'])\n",
    "print('Last Name: ' + person_info['last_name'])\n",
    "print('Age: ' + str(person_info['age']))\n",
    "print('City: ' + str(person_info['city']))\n",
    "\n",
    "person_info['qualification'] = 'Intermidiate'\n",
    "print('Qualification added: ' + person_info['qualification'])\n",
    "\n",
    "person_info['qualification'] = 'Master in BSCS'\n",
    "print('Qualification updated: ' + person_info['qualification'])\n",
    "\n",
    "del person_info['qualification']\n",
    "print('Qualification deleted.')"
   ]
  },
  {
   "cell_type": "code",
   "execution_count": 2,
   "metadata": {},
   "outputs": [
    {
     "name": "stdout",
     "output_type": "stream",
     "text": [
      "City: Karachi\n",
      "\tCountry: Pakfaistan\n",
      "\tPopulation: 14916456\n",
      "\tFact: Karachi is among the cheapest city to live in and It is the Sixth largest city in the world by city population\n",
      "City: New York City\n",
      "\tCountry: United State\n",
      "\tPopulation: 8175133\n",
      "\tFact: More Chinese people live in New York City than any other city outside of Asia.\n",
      "City: Melbourne\n",
      "\tCountry: Australia\n",
      "\tPopulation: 4963349\n",
      "\tFact: Melbourne has the largest tram system outside of Europe, and the fourth largest in the world overall.\n"
     ]
    }
   ],
   "source": [
    "cities = {\n",
    "    'Karachi': {\n",
    "        'country': 'Pakistan',\n",
    "        'population': 14_916_456,\n",
    "        'fact': 'Karachi is among the cheapest city to live in and It is the Sixth largest city in the world by city population'\n",
    "    },\n",
    "    'New York City': {\n",
    "        'country': 'United State',\n",
    "        'population': 8_175_133,\n",
    "        'fact': 'More Chinese people live in New York City than any other city outside of Asia.'\n",
    "    },\n",
    "    'Melbourne': {\n",
    "        'country': 'Australia',\n",
    "        'population': 4_963_349,\n",
    "        'fact': 'Melbourne has the largest tram system outside of Europe, and the fourth largest in the world overall.'\n",
    "    }\n",
    "}\n",
    "\n",
    "for city in cities:\n",
    "    print('City: ' + city)\n",
    "    print('\\tCountry: ' + cities[city]['country'])\n",
    "    print('\\tPopulation: ' + str(cities[city]['population']))\n",
    "    print('\\tFact: ' + cities[city]['fact'])"
   ]
  },
  {
   "cell_type": "code",
   "execution_count": 3,
   "metadata": {},
   "outputs": [
    {
     "name": "stdout",
     "output_type": "stream",
     "text": [
      "write your Age or 'q' to exit? 2\n",
      "Free of cost\n",
      "write your Age or 'q' to exit? 10\n",
      "Cost is $10;\n",
      "write your Age or 'q' to exit? 21\n",
      "Cost is $15\n",
      "write your Age or 'q' to exit? q\n"
     ]
    }
   ],
   "source": [
    "while True:\n",
    "    \n",
    "    age = input(\"write your Age or 'q' to exit? \")\n",
    "    if age == 'q':\n",
    "        break\n",
    "    age = int(age);\n",
    "    if age < 3:\n",
    "        print('Free of cost');\n",
    "    elif age >= 3 and age <= 12:\n",
    "        print('Cost is $10;');\n",
    "    elif age > 12:\n",
    "        print('Cost is $15');\n",
    "  "
   ]
  },
  {
   "cell_type": "code",
   "execution_count": 4,
   "metadata": {},
   "outputs": [
    {
     "name": "stdout",
     "output_type": "stream",
     "text": [
      "One of mmy favorite book is Alice in Wonderland\n"
     ]
    }
   ],
   "source": [
    "def favorite_book(title):\n",
    "  print(\"One of my favorite book is \" + title);\n",
    "favorite_book(\"Alice in Wonderland\");"
   ]
  },
  {
   "cell_type": "code",
   "execution_count": 9,
   "metadata": {},
   "outputs": [
    {
     "name": "stdout",
     "output_type": "stream",
     "text": [
      "Guess the number? 5\n",
      "Your number is smaller\n",
      "Guess the number? 15\n",
      "Your number is greater\n",
      "Guess the number? 12\n",
      "Your number is smaller\n",
      "You lost.\n"
     ]
    }
   ],
   "source": [
    "import random\n",
    "\n",
    "random_num = random.randrange(1,30);\n",
    "\n",
    "i = 0\n",
    "while True:\n",
    "    if i == 3:\n",
    "        print('You lost.')\n",
    "        break;\n",
    "        \n",
    "    inputNum = input('Guess the number? ');\n",
    "    inputNum = int(inputNum);\n",
    "    if inputNum == random_num:\n",
    "        print('You won!!!')\n",
    "        break;\n",
    "    elif inputNum > random_num:\n",
    "        print('Your number is greater')\n",
    "    elif inputNum < random_num:\n",
    "        print('Your number is smaller')\n",
    "    i += 1\n",
    "\n"
   ]
  }
 ],
 "metadata": {
  "kernelspec": {
   "display_name": "Python 3",
   "language": "python",
   "name": "python3"
  },
  "language_info": {
   "codemirror_mode": {
    "name": "ipython",
    "version": 3
   },
   "file_extension": ".py",
   "mimetype": "text/x-python",
   "name": "python",
   "nbconvert_exporter": "python",
   "pygments_lexer": "ipython3",
   "version": "3.7.4"
  }
 },
 "nbformat": 4,
 "nbformat_minor": 2
}
